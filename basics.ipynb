{
    "metadata": {
        "kernelspec": {
            "name": "SQL",
            "display_name": "SQL",
            "language": "sql"
        },
        "language_info": {
            "name": "sql",
            "version": ""
        }
    },
    "nbformat_minor": 2,
    "nbformat": 4,
    "cells": [
        {
            "cell_type": "code",
            "source": [
                "select database();"
            ],
            "metadata": {
                "azdata_cell_guid": "87dc23e6-3c04-4888-812a-da7369f6b159",
                "language": "sql"
            },
            "outputs": [
                {
                    "output_type": "display_data",
                    "data": {
                        "text/html": "(1 row(s) affected)"
                    },
                    "metadata": {}
                },
                {
                    "output_type": "display_data",
                    "data": {
                        "text/html": "Total execution time: 00:00:01.024"
                    },
                    "metadata": {}
                },
                {
                    "output_type": "execute_result",
                    "execution_count": 4,
                    "data": {
                        "application/vnd.dataresource+json": {
                            "schema": {
                                "fields": [
                                    {
                                        "name": "database()"
                                    }
                                ]
                            },
                            "data": [
                                {
                                    "database()": "NULL"
                                }
                            ]
                        },
                        "text/html": "<table><tr><th>database()</th></tr><tr><td>NULL</td></tr></table>"
                    },
                    "metadata": {}
                }
            ],
            "execution_count": 4
        },
        {
            "cell_type": "code",
            "source": [
                "USE sakila; -- database changed"
            ],
            "metadata": {
                "azdata_cell_guid": "5bfed296-1446-4926-a701-f4d6ed4b4912",
                "language": "sql"
            },
            "outputs": [
                {
                    "output_type": "display_data",
                    "data": {
                        "text/html": "Commands completed successfully"
                    },
                    "metadata": {}
                },
                {
                    "output_type": "display_data",
                    "data": {
                        "text/html": "Total execution time: 00:00:00.007"
                    },
                    "metadata": {}
                }
            ],
            "execution_count": 5
        },
        {
            "cell_type": "code",
            "source": [
                "SHOW Databases;"
            ],
            "metadata": {
                "language": "sql",
                "azdata_cell_guid": "7b80eabf-7d98-4e00-8c21-b381087973ba"
            },
            "outputs": [
                {
                    "output_type": "display_data",
                    "data": {
                        "text/html": "(6 row(s) affected)"
                    },
                    "metadata": {}
                },
                {
                    "output_type": "display_data",
                    "data": {
                        "text/html": "Total execution time: 00:00:01.018"
                    },
                    "metadata": {}
                },
                {
                    "output_type": "execute_result",
                    "execution_count": 6,
                    "data": {
                        "application/vnd.dataresource+json": {
                            "schema": {
                                "fields": [
                                    {
                                        "name": "Database"
                                    }
                                ]
                            },
                            "data": [
                                {
                                    "Database": "information_schema"
                                },
                                {
                                    "Database": "mysql"
                                },
                                {
                                    "Database": "performance_schema"
                                },
                                {
                                    "Database": "sakila"
                                },
                                {
                                    "Database": "sys"
                                },
                                {
                                    "Database": "world"
                                }
                            ]
                        },
                        "text/html": "<table><tr><th>Database</th></tr><tr><td>information_schema</td></tr><tr><td>mysql</td></tr><tr><td>performance_schema</td></tr><tr><td>sakila</td></tr><tr><td>sys</td></tr><tr><td>world</td></tr></table>"
                    },
                    "metadata": {}
                }
            ],
            "execution_count": 6
        },
        {
            "cell_type": "code",
            "source": [
                "CREATE DATABASE IF NOT EXISTS school;\r\n",
                "SHOW DATABASES;"
            ],
            "metadata": {
                "language": "sql",
                "azdata_cell_guid": "f5319ca3-acce-4662-bfb2-e28e56d08b3f"
            },
            "outputs": [
                {
                    "output_type": "display_data",
                    "data": {
                        "text/html": "Commands completed successfully"
                    },
                    "metadata": {}
                },
                {
                    "output_type": "display_data",
                    "data": {
                        "text/html": "(7 row(s) affected)"
                    },
                    "metadata": {}
                },
                {
                    "output_type": "display_data",
                    "data": {
                        "text/html": "Total execution time: 00:00:01.020"
                    },
                    "metadata": {}
                },
                {
                    "output_type": "execute_result",
                    "execution_count": 10,
                    "data": {
                        "application/vnd.dataresource+json": {
                            "schema": {
                                "fields": [
                                    {
                                        "name": "Database"
                                    }
                                ]
                            },
                            "data": [
                                {
                                    "Database": "information_schema"
                                },
                                {
                                    "Database": "mysql"
                                },
                                {
                                    "Database": "performance_schema"
                                },
                                {
                                    "Database": "sakila"
                                },
                                {
                                    "Database": "school"
                                },
                                {
                                    "Database": "sys"
                                },
                                {
                                    "Database": "world"
                                }
                            ]
                        },
                        "text/html": "<table><tr><th>Database</th></tr><tr><td>information_schema</td></tr><tr><td>mysql</td></tr><tr><td>performance_schema</td></tr><tr><td>sakila</td></tr><tr><td>school</td></tr><tr><td>sys</td></tr><tr><td>world</td></tr></table>"
                    },
                    "metadata": {}
                }
            ],
            "execution_count": 10
        },
        {
            "cell_type": "code",
            "source": [
                "use school;"
            ],
            "metadata": {
                "language": "sql",
                "azdata_cell_guid": "6abc877c-e288-4b47-8f84-eea6b70defa4"
            },
            "outputs": [
                {
                    "output_type": "display_data",
                    "data": {
                        "text/html": "Commands completed successfully"
                    },
                    "metadata": {}
                },
                {
                    "output_type": "display_data",
                    "data": {
                        "text/html": "Total execution time: 00:00:00"
                    },
                    "metadata": {}
                }
            ],
            "execution_count": 11
        },
        {
            "cell_type": "code",
            "source": [
                "CREATE TABLE IF NOT EXISTS tasks(\r\n",
                "    task_id INT AUTO_INCREMENT PRIMARY KEY,\r\n",
                "    title VARCHAR(255) NOT NULL,\r\n",
                "    start_date DATE,\r\n",
                "    due_date DATE,\r\n",
                "    status TINYINT NOT NULL,\r\n",
                "    priority TINYINT NOT NULL,\r\n",
                "    description TEXT,\r\n",
                "    created_at TIMESTAMP DEFAULT CURRENT_TIMESTAMP\r\n",
                ")   ENGINE=INNODB;\r\n",
                "\r\n",
                ""
            ],
            "metadata": {
                "language": "sql",
                "azdata_cell_guid": "7913f8a8-bd23-4b52-925e-2e8b56913227"
            },
            "outputs": [
                {
                    "output_type": "display_data",
                    "data": {
                        "text/html": "Commands completed successfully"
                    },
                    "metadata": {}
                },
                {
                    "output_type": "display_data",
                    "data": {
                        "text/html": "Total execution time: 00:00:00.024"
                    },
                    "metadata": {}
                }
            ],
            "execution_count": 12
        },
        {
            "cell_type": "code",
            "source": [
                "Show tables;"
            ],
            "metadata": {
                "language": "sql",
                "azdata_cell_guid": "026709a6-775f-413d-85a3-79ec0af9d223"
            },
            "outputs": [
                {
                    "output_type": "display_data",
                    "data": {
                        "text/html": "(1 row(s) affected)"
                    },
                    "metadata": {}
                },
                {
                    "output_type": "display_data",
                    "data": {
                        "text/html": "Total execution time: 00:00:01.014"
                    },
                    "metadata": {}
                },
                {
                    "output_type": "execute_result",
                    "execution_count": 13,
                    "data": {
                        "application/vnd.dataresource+json": {
                            "schema": {
                                "fields": [
                                    {
                                        "name": "Tables_in_school"
                                    }
                                ]
                            },
                            "data": [
                                {
                                    "Tables_in_school": "tasks"
                                }
                            ]
                        },
                        "text/html": "<table><tr><th>Tables_in_school</th></tr><tr><td>tasks</td></tr></table>"
                    },
                    "metadata": {}
                }
            ],
            "execution_count": 13
        },
        {
            "cell_type": "code",
            "source": [
                "DESCRIBE tasks;"
            ],
            "metadata": {
                "language": "sql",
                "azdata_cell_guid": "c8530f8b-866d-4e96-9f20-6284ebecd5de"
            },
            "outputs": [
{
    "output_type": "display_data",
    "data": {
        "text/html": "Total execution time: 00:00:00"
    },
    "metadata": {}
}
],
            "execution_count": 1
        },
        {
            "cell_type": "code",
            "source": [
                "CREATE TABLE IF NOT EXISTS checklists(\r\n",
                "    todo_id INT AUTO_INCREMENT,\r\n",
                "    task_id INT,\r\n",
                "    todo VARCHAR(255) NOT NULL,\r\n",
                "    is_completed BOOLEAN NOT NULL DEFAULT FALSE,\r\n",
                "    PRIMARY KEY (todo_id , task_id),\r\n",
                "    FOREIGN KEY (task_id)\r\n",
                "        REFERENCES tasks (task_id)\r\n",
                "        ON UPDATE RESTRICT ON DELETE CASCADE\r\n",
                ");"
            ],
            "metadata": {
                "language": "sql",
                "azdata_cell_guid": "c22e82ce-1d0f-40b5-a0a3-38458024f742"
            },
            "outputs": [
                {
                    "output_type": "display_data",
                    "data": {
                        "text/html": "Commands completed successfully"
                    },
                    "metadata": {}
                },
                {
                    "output_type": "display_data",
                    "data": {
                        "text/html": "Total execution time: 00:00:00.024"
                    },
                    "metadata": {}
                }
            ],
            "execution_count": 15
        },
        {
            "cell_type": "code",
            "source": [
                "DESCRIBE checklists;"
            ],
            "metadata": {
                "language": "sql",
                "azdata_cell_guid": "776b0a3a-02e8-41db-b5fe-336536d675d9"
            },
            "outputs": [
                {
                    "output_type": "display_data",
                    "data": {
                        "text/html": "(4 row(s) affected)"
                    },
                    "metadata": {}
                },
                {
                    "output_type": "display_data",
                    "data": {
                        "text/html": "Total execution time: 00:00:01.009"
                    },
                    "metadata": {}
                },
                {
                    "output_type": "execute_result",
                    "execution_count": 19,
                    "data": {
                        "application/vnd.dataresource+json": {
                            "schema": {
                                "fields": [
                                    {
                                        "name": "Field"
                                    },
                                    {
                                        "name": "Type"
                                    },
                                    {
                                        "name": "Null"
                                    },
                                    {
                                        "name": "Key"
                                    },
                                    {
                                        "name": "Default"
                                    },
                                    {
                                        "name": "Extra"
                                    }
                                ]
                            },
                            "data": [
                                {
                                    "Field": "todo_id",
                                    "Type": "b'int'",
                                    "Null": "NO",
                                    "Key": "PRI",
                                    "Default": "NULL",
                                    "Extra": "auto_increment"
                                },
                                {
                                    "Field": "task_id",
                                    "Type": "b'int'",
                                    "Null": "NO",
                                    "Key": "PRI",
                                    "Default": "NULL",
                                    "Extra": ""
                                },
                                {
                                    "Field": "todo",
                                    "Type": "b'varchar(255)'",
                                    "Null": "NO",
                                    "Key": "",
                                    "Default": "NULL",
                                    "Extra": ""
                                },
                                {
                                    "Field": "is_completed",
                                    "Type": "b'tinyint(1)'",
                                    "Null": "NO",
                                    "Key": "",
                                    "Default": "b'0'",
                                    "Extra": ""
                                }
                            ]
                        },
                        "text/html": "<table><tr><th>Field</th><th>Type</th><th>Null</th><th>Key</th><th>Default</th><th>Extra</th></tr><tr><td>todo_id</td><td>b&#39;int&#39;</td><td>NO</td><td>PRI</td><td>NULL</td><td>auto_increment</td></tr><tr><td>task_id</td><td>b&#39;int&#39;</td><td>NO</td><td>PRI</td><td>NULL</td><td></td></tr><tr><td>todo</td><td>b&#39;varchar(255)&#39;</td><td>NO</td><td></td><td>NULL</td><td></td></tr><tr><td>is_completed</td><td>b&#39;tinyint(1)&#39;</td><td>NO</td><td></td><td>b&#39;0&#39;</td><td></td></tr></table>"
                    },
                    "metadata": {}
                }
            ],
            "execution_count": 19
        },
        {
            "cell_type": "code",
            "source": [
                ""
            ],
            "metadata": {
                "language": "sql",
                "azdata_cell_guid": "7e68d744-6309-4ba4-b6f9-af3da01e211f"
            },
            "outputs": [],
            "execution_count": null
        }
    ]
}