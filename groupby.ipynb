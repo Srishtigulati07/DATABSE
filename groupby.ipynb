{
    "metadata": {
        "kernelspec": {
            "name": "SQL",
            "display_name": "SQL",
            "language": "sql"
        },
        "language_info": {
            "name": "sql",
            "version": ""
        }
    },
    "nbformat_minor": 2,
    "nbformat": 4,
    "cells": [
        {
            "cell_type": "code",
            "source": [
                "use sakila;"
            ],
            "metadata": {
                "azdata_cell_guid": "20c19dc1-c36e-41b3-9f4d-842397456d5f",
                "language": "sql"
            },
            "outputs": [
                {
                    "output_type": "display_data",
                    "data": {
                        "text/html": "Commands completed successfully"
                    },
                    "metadata": {}
                },
                {
                    "output_type": "display_data",
                    "data": {
                        "text/html": "Total execution time: 00:00:00"
                    },
                    "metadata": {}
                }
            ],
            "execution_count": 1
        },
        {
            "cell_type": "code",
            "source": [
                "select*from customer limit 2;"
            ],
            "metadata": {
                "azdata_cell_guid": "428e6513-abef-4939-940d-a07c31292ce7",
                "language": "sql"
            },
            "outputs": [
                {
                    "output_type": "display_data",
                    "data": {
                        "text/html": "(2 row(s) affected)"
                    },
                    "metadata": {}
                },
                {
                    "output_type": "display_data",
                    "data": {
                        "text/html": "Total execution time: 00:00:01.013"
                    },
                    "metadata": {}
                },
                {
                    "output_type": "execute_result",
                    "metadata": {},
                    "execution_count": 2,
                    "data": {
                        "application/vnd.dataresource+json": {
                            "schema": {
                                "fields": [
                                    {
                                        "name": "customer_id"
                                    },
                                    {
                                        "name": "store_id"
                                    },
                                    {
                                        "name": "first_name"
                                    },
                                    {
                                        "name": "last_name"
                                    },
                                    {
                                        "name": "email"
                                    },
                                    {
                                        "name": "address_id"
                                    },
                                    {
                                        "name": "active"
                                    },
                                    {
                                        "name": "create_date"
                                    },
                                    {
                                        "name": "last_update"
                                    }
                                ]
                            },
                            "data": [
                                {
                                    "customer_id": "1",
                                    "store_id": "1",
                                    "first_name": "MARY",
                                    "last_name": "SMITH",
                                    "email": "MARY.SMITH@sakilacustomer.org",
                                    "address_id": "5",
                                    "active": "1",
                                    "create_date": "2006-02-14 22:04:36",
                                    "last_update": "2006-02-15 04:57:20"
                                },
                                {
                                    "customer_id": "2",
                                    "store_id": "1",
                                    "first_name": "PATRICIA",
                                    "last_name": "JOHNSON",
                                    "email": "PATRICIA.JOHNSON@sakilacustomer.org",
                                    "address_id": "6",
                                    "active": "1",
                                    "create_date": "2006-02-14 22:04:36",
                                    "last_update": "2006-02-15 04:57:20"
                                }
                            ]
                        },
                        "text/html": [
                            "<table>",
                            "<tr><th>customer_id</th><th>store_id</th><th>first_name</th><th>last_name</th><th>email</th><th>address_id</th><th>active</th><th>create_date</th><th>last_update</th></tr>",
                            "<tr><td>1</td><td>1</td><td>MARY</td><td>SMITH</td><td>MARY.SMITH@sakilacustomer.org</td><td>5</td><td>1</td><td>2006-02-14 22:04:36</td><td>2006-02-15 04:57:20</td></tr>",
                            "<tr><td>2</td><td>1</td><td>PATRICIA</td><td>JOHNSON</td><td>PATRICIA.JOHNSON@sakilacustomer.org</td><td>6</td><td>1</td><td>2006-02-14 22:04:36</td><td>2006-02-15 04:57:20</td></tr>",
                            "</table>"
                        ]
                    }
                }
            ],
            "execution_count": 2
        },
        {
            "cell_type": "code",
            "source": [
                "select active,count(customer_id)from customer group by active;"
            ],
            "metadata": {
                "azdata_cell_guid": "94549f64-e4b5-4c0b-9ec8-3d10ba43ca47",
                "language": "sql"
            },
            "outputs": [
                {
                    "output_type": "display_data",
                    "data": {
                        "text/html": "(2 row(s) affected)"
                    },
                    "metadata": {}
                },
                {
                    "output_type": "display_data",
                    "data": {
                        "text/html": "Total execution time: 00:00:01.011"
                    },
                    "metadata": {}
                },
                {
                    "output_type": "execute_result",
                    "metadata": {},
                    "execution_count": 3,
                    "data": {
                        "application/vnd.dataresource+json": {
                            "schema": {
                                "fields": [
                                    {
                                        "name": "active"
                                    },
                                    {
                                        "name": "count(customer_id)"
                                    }
                                ]
                            },
                            "data": [
                                {
                                    "active": "1",
                                    "count(customer_id)": "584"
                                },
                                {
                                    "active": "0",
                                    "count(customer_id)": "15"
                                }
                            ]
                        },
                        "text/html": [
                            "<table>",
                            "<tr><th>active</th><th>count(customer_id)</th></tr>",
                            "<tr><td>1</td><td>584</td></tr>",
                            "<tr><td>0</td><td>15</td></tr>",
                            "</table>"
                        ]
                    }
                }
            ],
            "execution_count": 3
        },
        {
            "cell_type": "code",
            "source": [
                "select store_id,count(customer_id)from customer group by store_Id;"
            ],
            "metadata": {
                "language": "sql",
                "azdata_cell_guid": "8d4c06b8-cef4-4538-b9aa-0cba67cc83bc"
            },
            "outputs": [
                {
                    "output_type": "display_data",
                    "data": {
                        "text/html": "(2 row(s) affected)"
                    },
                    "metadata": {}
                },
                {
                    "output_type": "display_data",
                    "data": {
                        "text/html": "Total execution time: 00:00:01.011"
                    },
                    "metadata": {}
                },
                {
                    "output_type": "execute_result",
                    "metadata": {},
                    "execution_count": 4,
                    "data": {
                        "application/vnd.dataresource+json": {
                            "schema": {
                                "fields": [
                                    {
                                        "name": "store_id"
                                    },
                                    {
                                        "name": "count(customer_id)"
                                    }
                                ]
                            },
                            "data": [
                                {
                                    "store_id": "1",
                                    "count(customer_id)": "326"
                                },
                                {
                                    "store_id": "2",
                                    "count(customer_id)": "273"
                                }
                            ]
                        },
                        "text/html": [
                            "<table>",
                            "<tr><th>store_id</th><th>count(customer_id)</th></tr>",
                            "<tr><td>1</td><td>326</td></tr>",
                            "<tr><td>2</td><td>273</td></tr>",
                            "</table>"
                        ]
                    }
                }
            ],
            "execution_count": 4
        },
        {
            "cell_type": "code",
            "source": [
                "Select *from film limit 2;"
            ],
            "metadata": {
                "language": "sql",
                "azdata_cell_guid": "3d739c62-55de-40e3-ac52-5631a9ede2b9"
            },
            "outputs": [
                {
                    "output_type": "display_data",
                    "data": {
                        "text/html": "(2 row(s) affected)"
                    },
                    "metadata": {}
                },
                {
                    "output_type": "display_data",
                    "data": {
                        "text/html": "Total execution time: 00:00:01.019"
                    },
                    "metadata": {}
                },
                {
                    "output_type": "execute_result",
                    "metadata": {},
                    "execution_count": 5,
                    "data": {
                        "application/vnd.dataresource+json": {
                            "schema": {
                                "fields": [
                                    {
                                        "name": "film_id"
                                    },
                                    {
                                        "name": "title"
                                    },
                                    {
                                        "name": "description"
                                    },
                                    {
                                        "name": "release_year"
                                    },
                                    {
                                        "name": "language_id"
                                    },
                                    {
                                        "name": "original_language_id"
                                    },
                                    {
                                        "name": "rental_duration"
                                    },
                                    {
                                        "name": "rental_rate"
                                    },
                                    {
                                        "name": "length"
                                    },
                                    {
                                        "name": "replacement_cost"
                                    },
                                    {
                                        "name": "rating"
                                    },
                                    {
                                        "name": "special_features"
                                    },
                                    {
                                        "name": "last_update"
                                    }
                                ]
                            },
                            "data": [
                                {
                                    "film_id": "1",
                                    "title": "ACADEMY DINOSAUR",
                                    "description": "A Epic Drama of a Feminist And a Mad Scientist who must Battle a Teacher in The Canadian Rockies",
                                    "release_year": "2006",
                                    "language_id": "1",
                                    "original_language_id": "NULL",
                                    "rental_duration": "6",
                                    "rental_rate": "0.99",
                                    "length": "86",
                                    "replacement_cost": "20.99",
                                    "rating": "PG",
                                    "special_features": "{'Deleted Scenes', 'Behind the Scenes'}",
                                    "last_update": "2006-02-15 05:03:42"
                                },
                                {
                                    "film_id": "2",
                                    "title": "ACE GOLDFINGER",
                                    "description": "A Astounding Epistle of a Database Administrator And a Explorer who must Find a Car in Ancient China",
                                    "release_year": "2006",
                                    "language_id": "1",
                                    "original_language_id": "NULL",
                                    "rental_duration": "3",
                                    "rental_rate": "4.99",
                                    "length": "48",
                                    "replacement_cost": "12.99",
                                    "rating": "G",
                                    "special_features": "{'Trailers', 'Deleted Scenes'}",
                                    "last_update": "2006-02-15 05:03:42"
                                }
                            ]
                        },
                        "text/html": [
                            "<table>",
                            "<tr><th>film_id</th><th>title</th><th>description</th><th>release_year</th><th>language_id</th><th>original_language_id</th><th>rental_duration</th><th>rental_rate</th><th>length</th><th>replacement_cost</th><th>rating</th><th>special_features</th><th>last_update</th></tr>",
                            "<tr><td>1</td><td>ACADEMY DINOSAUR</td><td>A Epic Drama of a Feminist And a Mad Scientist who must Battle a Teacher in The Canadian Rockies</td><td>2006</td><td>1</td><td>NULL</td><td>6</td><td>0.99</td><td>86</td><td>20.99</td><td>PG</td><td>{&#39;Deleted Scenes&#39;, &#39;Behind the Scenes&#39;}</td><td>2006-02-15 05:03:42</td></tr>",
                            "<tr><td>2</td><td>ACE GOLDFINGER</td><td>A Astounding Epistle of a Database Administrator And a Explorer who must Find a Car in Ancient China</td><td>2006</td><td>1</td><td>NULL</td><td>3</td><td>4.99</td><td>48</td><td>12.99</td><td>G</td><td>{&#39;Trailers&#39;, &#39;Deleted Scenes&#39;}</td><td>2006-02-15 05:03:42</td></tr>",
                            "</table>"
                        ]
                    }
                }
            ],
            "execution_count": 5
        },
        {
            "cell_type": "code",
            "source": [
                "select\r\n",
                "     count(film_id) as number_of_films,\r\n",
                "     rental_duration,\r\n",
                "     rating\r\n",
                "from film \r\n",
                "group by rental_duration,rating\r\n",
                "order by rental_duration, rating;"
            ],
            "metadata": {
                "language": "sql",
                "azdata_cell_guid": "1f167a04-28e2-4169-a612-249102afc9ea"
            },
            "outputs": [
                {
                    "output_type": "display_data",
                    "data": {
                        "text/html": "(25 row(s) affected)"
                    },
                    "metadata": {}
                },
                {
                    "output_type": "display_data",
                    "data": {
                        "text/html": "Total execution time: 00:00:01.017"
                    },
                    "metadata": {}
                },
                {
                    "output_type": "execute_result",
                    "metadata": {},
                    "execution_count": 6,
                    "data": {
                        "application/vnd.dataresource+json": {
                            "schema": {
                                "fields": [
                                    {
                                        "name": "number_of_films"
                                    },
                                    {
                                        "name": "rental_duration"
                                    },
                                    {
                                        "name": "rating"
                                    }
                                ]
                            },
                            "data": [
                                {
                                    "number_of_films": "49",
                                    "rental_duration": "3",
                                    "rating": "G"
                                },
                                {
                                    "number_of_films": "36",
                                    "rental_duration": "3",
                                    "rating": "PG"
                                },
                                {
                                    "number_of_films": "39",
                                    "rental_duration": "3",
                                    "rating": "PG-13"
                                },
                                {
                                    "number_of_films": "42",
                                    "rental_duration": "3",
                                    "rating": "R"
                                },
                                {
                                    "number_of_films": "37",
                                    "rental_duration": "3",
                                    "rating": "NC-17"
                                },
                                {
                                    "number_of_films": "28",
                                    "rental_duration": "4",
                                    "rating": "G"
                                },
                                {
                                    "number_of_films": "41",
                                    "rental_duration": "4",
                                    "rating": "PG"
                                },
                                {
                                    "number_of_films": "48",
                                    "rental_duration": "4",
                                    "rating": "PG-13"
                                },
                                {
                                    "number_of_films": "53",
                                    "rental_duration": "4",
                                    "rating": "R"
                                },
                                {
                                    "number_of_films": "33",
                                    "rental_duration": "4",
                                    "rating": "NC-17"
                                },
                                {
                                    "number_of_films": "33",
                                    "rental_duration": "5",
                                    "rating": "G"
                                },
                                {
                                    "number_of_films": "33",
                                    "rental_duration": "5",
                                    "rating": "PG"
                                },
                                {
                                    "number_of_films": "42",
                                    "rental_duration": "5",
                                    "rating": "PG-13"
                                },
                                {
                                    "number_of_films": "40",
                                    "rental_duration": "5",
                                    "rating": "R"
                                },
                                {
                                    "number_of_films": "43",
                                    "rental_duration": "5",
                                    "rating": "NC-17"
                                },
                                {
                                    "number_of_films": "39",
                                    "rental_duration": "6",
                                    "rating": "G"
                                },
                                {
                                    "number_of_films": "39",
                                    "rental_duration": "6",
                                    "rating": "PG"
                                },
                                {
                                    "number_of_films": "50",
                                    "rental_duration": "6",
                                    "rating": "PG-13"
                                },
                                {
                                    "number_of_films": "27",
                                    "rental_duration": "6",
                                    "rating": "R"
                                },
                                {
                                    "number_of_films": "57",
                                    "rental_duration": "6",
                                    "rating": "NC-17"
                                },
                                {
                                    "number_of_films": "29",
                                    "rental_duration": "7",
                                    "rating": "G"
                                },
                                {
                                    "number_of_films": "45",
                                    "rental_duration": "7",
                                    "rating": "PG"
                                },
                                {
                                    "number_of_films": "44",
                                    "rental_duration": "7",
                                    "rating": "PG-13"
                                },
                                {
                                    "number_of_films": "33",
                                    "rental_duration": "7",
                                    "rating": "R"
                                },
                                {
                                    "number_of_films": "40",
                                    "rental_duration": "7",
                                    "rating": "NC-17"
                                }
                            ]
                        },
                        "text/html": [
                            "<table>",
                            "<tr><th>number_of_films</th><th>rental_duration</th><th>rating</th></tr>",
                            "<tr><td>49</td><td>3</td><td>G</td></tr>",
                            "<tr><td>36</td><td>3</td><td>PG</td></tr>",
                            "<tr><td>39</td><td>3</td><td>PG-13</td></tr>",
                            "<tr><td>42</td><td>3</td><td>R</td></tr>",
                            "<tr><td>37</td><td>3</td><td>NC-17</td></tr>",
                            "<tr><td>28</td><td>4</td><td>G</td></tr>",
                            "<tr><td>41</td><td>4</td><td>PG</td></tr>",
                            "<tr><td>48</td><td>4</td><td>PG-13</td></tr>",
                            "<tr><td>53</td><td>4</td><td>R</td></tr>",
                            "<tr><td>33</td><td>4</td><td>NC-17</td></tr>",
                            "<tr><td>33</td><td>5</td><td>G</td></tr>",
                            "<tr><td>33</td><td>5</td><td>PG</td></tr>",
                            "<tr><td>42</td><td>5</td><td>PG-13</td></tr>",
                            "<tr><td>40</td><td>5</td><td>R</td></tr>",
                            "<tr><td>43</td><td>5</td><td>NC-17</td></tr>",
                            "<tr><td>39</td><td>6</td><td>G</td></tr>",
                            "<tr><td>39</td><td>6</td><td>PG</td></tr>",
                            "<tr><td>50</td><td>6</td><td>PG-13</td></tr>",
                            "<tr><td>27</td><td>6</td><td>R</td></tr>",
                            "<tr><td>57</td><td>6</td><td>NC-17</td></tr>",
                            "<tr><td>29</td><td>7</td><td>G</td></tr>",
                            "<tr><td>45</td><td>7</td><td>PG</td></tr>",
                            "<tr><td>44</td><td>7</td><td>PG-13</td></tr>",
                            "<tr><td>33</td><td>7</td><td>R</td></tr>",
                            "<tr><td>40</td><td>7</td><td>NC-17</td></tr>",
                            "</table>"
                        ]
                    }
                }
            ],
            "execution_count": 6
        },
        {
            "cell_type": "code",
            "source": [
                "select \r\n",
                "      MAX(replacement_cost),\r\n",
                "      MIN(replacement_cost),\r\n",
                "      AVG(replacement_cost),\r\n",
                "      rating   \r\n",
                "from film \r\n",
                "group by rating;"
            ],
            "metadata": {
                "language": "sql",
                "azdata_cell_guid": "6d693900-5618-447d-bbf9-3789f904f713"
            },
            "outputs": [
                {
                    "output_type": "display_data",
                    "data": {
                        "text/html": "(5 row(s) affected)"
                    },
                    "metadata": {}
                },
                {
                    "output_type": "display_data",
                    "data": {
                        "text/html": "Total execution time: 00:00:01.023"
                    },
                    "metadata": {}
                },
                {
                    "output_type": "execute_result",
                    "metadata": {},
                    "execution_count": 7,
                    "data": {
                        "application/vnd.dataresource+json": {
                            "schema": {
                                "fields": [
                                    {
                                        "name": "MAX(replacement_cost)"
                                    },
                                    {
                                        "name": "MIN(replacement_cost)"
                                    },
                                    {
                                        "name": "AVG(replacement_cost)"
                                    },
                                    {
                                        "name": "rating"
                                    }
                                ]
                            },
                            "data": [
                                {
                                    "MAX(replacement_cost)": "29.99",
                                    "MIN(replacement_cost)": "9.99",
                                    "AVG(replacement_cost)": "18.959072",
                                    "rating": "PG"
                                },
                                {
                                    "MAX(replacement_cost)": "29.99",
                                    "MIN(replacement_cost)": "9.99",
                                    "AVG(replacement_cost)": "20.124831",
                                    "rating": "G"
                                },
                                {
                                    "MAX(replacement_cost)": "29.99",
                                    "MIN(replacement_cost)": "9.99",
                                    "AVG(replacement_cost)": "20.137619",
                                    "rating": "NC-17"
                                },
                                {
                                    "MAX(replacement_cost)": "29.99",
                                    "MIN(replacement_cost)": "9.99",
                                    "AVG(replacement_cost)": "20.402556",
                                    "rating": "PG-13"
                                },
                                {
                                    "MAX(replacement_cost)": "29.99",
                                    "MIN(replacement_cost)": "9.99",
                                    "AVG(replacement_cost)": "20.231026",
                                    "rating": "R"
                                }
                            ]
                        },
                        "text/html": [
                            "<table>",
                            "<tr><th>MAX(replacement_cost)</th><th>MIN(replacement_cost)</th><th>AVG(replacement_cost)</th><th>rating</th></tr>",
                            "<tr><td>29.99</td><td>9.99</td><td>18.959072</td><td>PG</td></tr>",
                            "<tr><td>29.99</td><td>9.99</td><td>20.124831</td><td>G</td></tr>",
                            "<tr><td>29.99</td><td>9.99</td><td>20.137619</td><td>NC-17</td></tr>",
                            "<tr><td>29.99</td><td>9.99</td><td>20.402556</td><td>PG-13</td></tr>",
                            "<tr><td>29.99</td><td>9.99</td><td>20.231026</td><td>R</td></tr>",
                            "</table>"
                        ]
                    }
                }
            ],
            "execution_count": 7
        },
        {
            "cell_type": "code",
            "source": [
                "select\r\n",
                "     count(film_id) as number_of_films,\r\n",
                "     rental_duration,\r\n",
                "     rating\r\n",
                "from film \r\n",
                "group by \r\n",
                "    rental_duration,rating\r\n",
                "having\r\n",
                "     number_of_films>40\r\n",
                "order by\r\n",
                "     rental_duration, rating;"
            ],
            "metadata": {
                "language": "sql",
                "azdata_cell_guid": "24f33399-8c90-48a2-9ee2-8703aa4848b6"
            },
            "outputs": [
{
    "output_type": "display_data",
    "data": {
        "text/html": "(11 row(s) affected)"
    },
    "metadata": {}
}, {
    "output_type": "display_data",
    "data": {
        "text/html": "Total execution time: 00:00:01.016"
    },
    "metadata": {}
}, {
    "output_type": "execute_result",
    "metadata": {},
    "execution_count": 8,
    "data": {
        "application/vnd.dataresource+json": {
            "schema": {
                "fields": [
                    {
                        "name": "number_of_films"
                    },
                    {
                        "name": "rental_duration"
                    },
                    {
                        "name": "rating"
                    }
                ]
            },
            "data": [
                {
                    "number_of_films": "49",
                    "rental_duration": "3",
                    "rating": "G"
                },
                {
                    "number_of_films": "42",
                    "rental_duration": "3",
                    "rating": "R"
                },
                {
                    "number_of_films": "41",
                    "rental_duration": "4",
                    "rating": "PG"
                },
                {
                    "number_of_films": "48",
                    "rental_duration": "4",
                    "rating": "PG-13"
                },
                {
                    "number_of_films": "53",
                    "rental_duration": "4",
                    "rating": "R"
                },
                {
                    "number_of_films": "42",
                    "rental_duration": "5",
                    "rating": "PG-13"
                },
                {
                    "number_of_films": "43",
                    "rental_duration": "5",
                    "rating": "NC-17"
                },
                {
                    "number_of_films": "50",
                    "rental_duration": "6",
                    "rating": "PG-13"
                },
                {
                    "number_of_films": "57",
                    "rental_duration": "6",
                    "rating": "NC-17"
                },
                {
                    "number_of_films": "45",
                    "rental_duration": "7",
                    "rating": "PG"
                },
                {
                    "number_of_films": "44",
                    "rental_duration": "7",
                    "rating": "PG-13"
                }
            ]
        },
        "text/html": [
            "<table>",
            "<tr><th>number_of_films</th><th>rental_duration</th><th>rating</th></tr>",
            "<tr><td>49</td><td>3</td><td>G</td></tr>",
            "<tr><td>42</td><td>3</td><td>R</td></tr>",
            "<tr><td>41</td><td>4</td><td>PG</td></tr>",
            "<tr><td>48</td><td>4</td><td>PG-13</td></tr>",
            "<tr><td>53</td><td>4</td><td>R</td></tr>",
            "<tr><td>42</td><td>5</td><td>PG-13</td></tr>",
            "<tr><td>43</td><td>5</td><td>NC-17</td></tr>",
            "<tr><td>50</td><td>6</td><td>PG-13</td></tr>",
            "<tr><td>57</td><td>6</td><td>NC-17</td></tr>",
            "<tr><td>45</td><td>7</td><td>PG</td></tr>",
            "<tr><td>44</td><td>7</td><td>PG-13</td></tr>",
            "</table>"
        ]
    }
}
],
            "execution_count": 8
        },
        {
            "cell_type": "markdown",
            "source": [
                "create a new database company \n",
                "1.create a table products with following coloumns\n",
                "<span style=\"color: var(--vscode-foreground);\">id</span>\n",
                "-    title\n",
                "-    price\n",
                "-   discount\n",
                "-   brand\n",
                "-   category\n",
                "-  quantit\n",
                "  \n",
                "2.insert 50 records into the table"
            ],
            "metadata": {
                "language": "sql",
                "azdata_cell_guid": "b16a4c57-618c-4716-a59d-7ef4a99b9b7d"
            }
        }
    ]
}